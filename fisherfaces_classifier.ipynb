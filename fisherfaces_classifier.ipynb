{
 "cells": [
  {
   "cell_type": "code",
   "outputs": [],
   "source": [
    "import os\n",
    "from PIL import Image\n",
    "import numpy as np\n",
    "from sklearn.decomposition import PCA\n",
    "import matplotlib.pyplot as plt\n",
    "from sklearn.model_selection import train_test_split\n",
    "from sklearn.discriminant_analysis import LinearDiscriminantAnalysis as LDA\n",
    "from sklearn.linear_model import LogisticRegression\n",
    "from sklearn.svm import SVC\n",
    "from sklearn.metrics import classification_report, confusion_matrix, accuracy_score\n",
    "import seaborn as sns\n",
    "from sklearn.preprocessing import LabelEncoder\n",
    "\n",
    "%matplotlib inline\n",
    "\n",
    "SMALL_SIZE = 11\n",
    "MEDIUM_SIZE = 12\n",
    "BIGGER_SIZE = 13\n",
    "\n",
    "plt.rcParams['axes.facecolor']='white'\n",
    "plt.rc('axes', titlesize=BIGGER_SIZE)     # fontsize of the axes title\n",
    "plt.rc('axes', labelsize=BIGGER_SIZE)    # fontsize of the x and y labels\n",
    "plt.rc('xtick', labelsize=MEDIUM_SIZE)    # fontsize of the tick labels\n",
    "plt.rc('ytick', labelsize=MEDIUM_SIZE)    # fontsize of the tick labels\n",
    "plt.rc('legend', fontsize=MEDIUM_SIZE)    # legend fontsize\n",
    "plt.rc('figure', titlesize=BIGGER_SIZE)  # fontsize of the figure title"
   ],
   "metadata": {
    "collapsed": false,
    "ExecuteTime": {
     "end_time": "2024-05-29T17:00:00.839115Z",
     "start_time": "2024-05-29T17:00:00.371023Z"
    }
   },
   "id": "6c0db9bd150bc628",
   "execution_count": 1
  },
  {
   "cell_type": "code",
   "outputs": [
    {
     "name": "stdout",
     "output_type": "stream",
     "text": [
      "Image matrix shape: (2414, 32256)\n",
      "Labels array shape: (2414,)\n",
      "Original image dimensions: (192, 168)\n"
     ]
    }
   ],
   "source": [
    "# Prepare lists to store the flattened images and labels\n",
    "flattened_images = []\n",
    "labels = []\n",
    "\n",
    "# Loop over each file in the directory\n",
    "for filename in os.listdir(\"Images\"):\n",
    "    file_path = os.path.join(\"Images\", filename)\n",
    "    with Image.open(file_path) as img:\n",
    "        original_dimensions = (img.size[1], img.size[0])\n",
    "        flattened_img = np.array(img).flatten()\n",
    "        flattened_images.append(flattened_img)\n",
    "        # Extract the class label from the filename\n",
    "        # Example filename: yaleB01_P00A+000E+00.png\n",
    "        # Extract '01' from 'yaleB01', which is the subject ID\n",
    "        label = filename.split('_')[0]\n",
    "        label = label[5:7]\n",
    "        labels.append(label)\n",
    "\n",
    "# Convert lists to numpy arrays\n",
    "image_matrix = np.array(flattened_images)\n",
    "label_array = np.array(labels)\n",
    "\n",
    "print(\"Image matrix shape:\", image_matrix.shape)\n",
    "print(\"Labels array shape:\", label_array.shape)\n",
    "print(\"Original image dimensions:\", original_dimensions)"
   ],
   "metadata": {
    "collapsed": false,
    "ExecuteTime": {
     "end_time": "2024-05-29T17:00:06.128062Z",
     "start_time": "2024-05-29T17:00:03.139191Z"
    }
   },
   "id": "ba566b0b2d29f270",
   "execution_count": 2
  },
  {
   "cell_type": "code",
   "outputs": [],
   "source": [
    "#Alternatively, read from the pickle\n",
    "import pickle\n",
    "with open('young_matrix.pkl', 'rb') as file:\n",
    "    image_matrix = pickle.load(file)\n",
    "\n",
    "with open('young_labels.pkl', 'rb') as file:\n",
    "    label_array = np.array(pickle.load(file))\n",
    "\n",
    "original_dimensions = (144, 104)"
   ],
   "metadata": {
    "collapsed": false,
    "ExecuteTime": {
     "end_time": "2024-05-29T23:18:46.930546Z",
     "start_time": "2024-05-29T23:18:46.846256Z"
    }
   },
   "id": "e6dce0f5a9e7a5e4",
   "execution_count": 60
  },
  {
   "cell_type": "code",
   "outputs": [],
   "source": [
    "# Unique classes in the dataset\n",
    "unique_classes = np.unique(labels)\n",
    "\n",
    "# Initialize lists to hold the split results\n",
    "X_train_list = []\n",
    "X_test_list = []\n",
    "y_train_list = []\n",
    "y_test_list = []\n",
    "\n",
    "train_indices = []\n",
    "test_indices = []\n",
    "\n",
    "for cls in unique_classes:\n",
    "    indices = np.where(label_array == cls)[0]\n",
    "    train_idx, test_idx = train_test_split(indices, train_size=0.75, random_state=42, shuffle=True)\n",
    "    train_indices.extend(train_idx)\n",
    "    test_indices.extend(test_idx)\n",
    "\n",
    "# Use the indices to split both the original and transformed datasets\n",
    "X_train = image_matrix[train_indices]\n",
    "X_test = image_matrix[test_indices]\n",
    "y_train = label_array[train_indices]\n",
    "y_test = label_array[test_indices]"
   ],
   "metadata": {
    "collapsed": false,
    "ExecuteTime": {
     "end_time": "2024-05-29T23:18:48.927930Z",
     "start_time": "2024-05-29T23:18:48.875043Z"
    }
   },
   "id": "db8e201713d68315",
   "execution_count": 61
  },
  {
   "cell_type": "code",
   "outputs": [],
   "source": [
    "#First apply PCA to reduce the dimensionality of the dataset\n",
    "num_pca_components = X_train.shape[0] // 5\n",
    "pca = PCA(n_components=num_pca_components)\n",
    "X_train_pca = pca.fit_transform(X_train)\n",
    "X_test_pca = pca.transform(X_test)\n",
    "n_classes = len(np.unique(y_train))\n",
    "\n",
    "#First find mean vector of each class\n",
    "mean_vectors = []\n",
    "for cls in unique_classes:\n",
    "    cls_indices = np.where(y_train == cls)[0]\n",
    "    cls_mean = np.mean(X_train_pca[cls_indices], axis=0)\n",
    "    mean_vectors.append(cls_mean)\n",
    "\n",
    "#Now find the within-class scatter matrix\n",
    "Sw = np.zeros((num_pca_components, num_pca_components))\n",
    "for cls, mean_vec in zip(unique_classes, mean_vectors):\n",
    "    cls_indices = np.where(y_train == cls)[0]\n",
    "    cls_scatter = np.zeros((num_pca_components, num_pca_components))\n",
    "    for idx in cls_indices:\n",
    "        row = X_train_pca[idx].reshape(-1, 1)\n",
    "        mean_vec = mean_vec.reshape(-1, 1)\n",
    "        cls_scatter += np.dot((row - mean_vec), (row - mean_vec).T)\n",
    "    Sw += cls_scatter\n",
    "\n",
    "#Now find the between-class scatter matrix\n",
    "overall_mean = np.mean(X_train_pca, axis=0)\n",
    "Sb = np.zeros((num_pca_components, num_pca_components))\n",
    "for cls, mean_vec in zip(unique_classes, mean_vectors):\n",
    "    cls_indices = np.where(y_train == cls)[0]\n",
    "    n_cls = len(cls_indices)\n",
    "    mean_vec = mean_vec.reshape(-1, 1)\n",
    "    overall_mean = overall_mean.reshape(-1, 1)\n",
    "    Sb += n_cls * np.dot((mean_vec - overall_mean), (mean_vec - overall_mean).T)\n",
    "\n",
    "#Now find Fisherfaces as the eigenvectors corresponding to the positive eigenvalues of Sw^(-1)Sb such that eigenvalues are sorted in descending order\n",
    "eigenvalues, eigenvectors = np.linalg.eigh(np.dot(np.linalg.inv(Sw), Sb))\n",
    "#Flip the eigenvectors and eigenvalues to sort them in descending order\n",
    "sorted_indices = np.argsort(eigenvalues)[::-1]\n",
    "eigenvalues = eigenvalues[sorted_indices]\n",
    "eigenvectors = eigenvectors[:, sorted_indices]\n",
    "\n",
    "valid_eigenvectors = eigenvectors[:, np.where(eigenvalues > 0)[0]]\n",
    "valid_eigenvalues = eigenvalues[np.where(eigenvalues > 0)]\n",
    "invalid_eigenvectors = eigenvectors[:, np.where(eigenvalues <= 0)[0]]\n",
    "invalid_eigenvalues = eigenvalues[np.where(eigenvalues <= 0)]\n",
    "\n",
    "fisherfaces = np.dot(valid_eigenvectors.T, pca.components_).reshape((-1, original_dimensions[0], original_dimensions[1]))\n",
    "invalid_fisherfaces = np.dot(invalid_eigenvectors.T, pca.components_).reshape((-1, original_dimensions[0], original_dimensions[1]))"
   ],
   "metadata": {
    "collapsed": false,
    "ExecuteTime": {
     "end_time": "2024-05-29T23:19:20.514486Z",
     "start_time": "2024-05-29T23:18:51.088809Z"
    }
   },
   "id": "6a6f121970acfa6e",
   "execution_count": 62
  },
  {
   "cell_type": "code",
   "outputs": [
    {
     "name": "stdout",
     "output_type": "stream",
     "text": [
      "Number of valid Fisherfaces: 37\n",
      "Number of invalid Fisherfaces: 324\n"
     ]
    }
   ],
   "source": [
    "print(\"Number of valid Fisherfaces:\", fisherfaces.shape[0])\n",
    "print(\"Number of invalid Fisherfaces:\", invalid_fisherfaces.shape[0])"
   ],
   "metadata": {
    "collapsed": false,
    "ExecuteTime": {
     "end_time": "2024-05-25T22:30:11.220473Z",
     "start_time": "2024-05-25T22:30:11.209502Z"
    }
   },
   "id": "cf8b3e8b175d3ff9",
   "execution_count": 5
  },
  {
   "cell_type": "code",
   "outputs": [],
   "source": [
    "def apply_fisherfaces(X, y, num_pca_components, num_lda_components):  \n",
    "    pca = PCA(n_components=num_pca_components)\n",
    "    X_pca = pca.fit_transform(X)\n",
    "    \n",
    "    lda = LDA(n_components=num_lda_components, solver='eigen')\n",
    "    X_fisher = lda.fit_transform(X_pca, y)\n",
    "\n",
    "    return X_fisher, pca, lda"
   ],
   "metadata": {
    "collapsed": false,
    "ExecuteTime": {
     "end_time": "2024-05-29T23:19:49.798138Z",
     "start_time": "2024-05-29T23:19:49.779185Z"
    }
   },
   "id": "bbb6f9dff09e80d8",
   "execution_count": 63
  },
  {
   "cell_type": "code",
   "outputs": [],
   "source": [
    "def evaluate_model(classifier, X_train, y_train, X_test, y_test):\n",
    "    classifier.fit(X_train, y_train)\n",
    "    y_pred = classifier.predict(X_test)\n",
    "    accuracy = accuracy_score(y_test, y_pred)\n",
    "    return accuracy"
   ],
   "metadata": {
    "collapsed": false,
    "ExecuteTime": {
     "end_time": "2024-05-29T23:19:51.182968Z",
     "start_time": "2024-05-29T23:19:51.162026Z"
    }
   },
   "id": "381a8f6e35711fb",
   "execution_count": 64
  },
  {
   "cell_type": "code",
   "outputs": [],
   "source": [
    "logistic_classifier = LogisticRegression(random_state = 42, C = 0.005, max_iter = 500)\n",
    "svm_classifier = SVC(kernel = 'linear', random_state = 42, C = 0.001, max_iter = 500)"
   ],
   "metadata": {
    "collapsed": false,
    "ExecuteTime": {
     "end_time": "2024-05-29T23:19:53.137422Z",
     "start_time": "2024-05-29T23:19:53.127413Z"
    }
   },
   "id": "fa552183a3d54393",
   "execution_count": 65
  },
  {
   "cell_type": "code",
   "outputs": [
    {
     "name": "stderr",
     "output_type": "stream",
     "text": [
      "C:\\Users\\korki\\anaconda3\\envs\\mnlp\\lib\\site-packages\\sklearn\\svm\\_base.py:299: ConvergenceWarning: Solver terminated early (max_iter=500).  Consider pre-processing your data with StandardScaler or MinMaxScaler.\n",
      "  warnings.warn(\n"
     ]
    }
   ],
   "source": [
    "component_list = [1]\n",
    "logistic_accuracies = []\n",
    "svm_accuracies = []\n",
    "for num_components in component_list:\n",
    "    X_train_fisher, pca, lda = apply_fisherfaces(X_train, y_train, num_pca_components = num_pca_components, num_lda_components = num_components)\n",
    "    X_test_fisher = lda.transform(pca.transform(X_test))\n",
    "    logistic_accuracy = evaluate_model(logistic_classifier, X_train_fisher, y_train, X_test_fisher, y_test)\n",
    "    logistic_accuracies.append(logistic_accuracy)\n",
    "    svm_accuracy = evaluate_model(svm_classifier, X_train_fisher, y_train, X_test_fisher, y_test)\n",
    "    svm_accuracies.append(svm_accuracy)"
   ],
   "metadata": {
    "collapsed": false,
    "ExecuteTime": {
     "end_time": "2024-05-29T23:20:25.668040Z",
     "start_time": "2024-05-29T23:19:55.439784Z"
    }
   },
   "id": "8c5f91a129b974ec",
   "execution_count": 66
  },
  {
   "cell_type": "code",
   "outputs": [
    {
     "data": {
      "text/plain": "<Figure size 640x480 with 1 Axes>",
      "image/png": "[encoded data removed]"
     },
     "metadata": {},
     "output_type": "display_data"
    }
   ],
   "source": [
    "# Using subplots\n",
    "plt.plot(component_list, logistic_accuracies, label = 'Logistic Regression', linewidth = 2)\n",
    "plt.plot(component_list, svm_accuracies, label = 'SVM', linewidth = 2)\n",
    "plt.xlabel('Number of components')\n",
    "plt.ylabel('Accuracy')\n",
    "plt.grid(color='black', linewidth=0.25, alpha=0.5)\n",
    "plt.ylim(0, 1.0)\n",
    "plt.yticks(np.arange(0, 1.1, 0.1))\n",
    "plt.legend()\n",
    "plt.show()"
   ],
   "metadata": {
    "collapsed": false,
    "ExecuteTime": {
     "end_time": "2024-05-29T23:04:46.522027Z",
     "start_time": "2024-05-29T23:04:46.210301Z"
    }
   },
   "id": "b59e22cf4706ea5b",
   "execution_count": 30
  },
  {
   "cell_type": "code",
   "outputs": [
    {
     "name": "stdout",
     "output_type": "stream",
     "text": [
      "Logistic Regression accuracy: [0.686]\n",
      "SVM accuracy: [0.6253333333333333]\n"
     ]
    }
   ],
   "source": [
    "print(\"Logistic Regression accuracy:\", logistic_accuracies)\n",
    "print(\"SVM accuracy:\", svm_accuracies)"
   ],
   "metadata": {
    "collapsed": false,
    "ExecuteTime": {
     "end_time": "2024-05-29T23:21:05.614478Z",
     "start_time": "2024-05-29T23:21:05.595529Z"
    }
   },
   "id": "3a4f538b5bd771e6",
   "execution_count": 67
  },
  {
   "cell_type": "code",
   "outputs": [],
   "source": [
    "#pickle the accuracies\n",
    "import pickle\n",
    "with open('fisher_log_accuracies.pkl', 'wb') as file:\n",
    "    pickle.dump(logistic_accuracies, file)\n",
    "    \n",
    "with open('fisher_svm_accuracies.pkl', 'wb') as file:\n",
    "    pickle.dump(svm_accuracies, file)"
   ],
   "metadata": {
    "collapsed": false,
    "ExecuteTime": {
     "end_time": "2024-05-29T18:11:21.520359Z",
     "start_time": "2024-05-29T18:11:21.496419Z"
    }
   },
   "id": "5d47a3858cf5e9cb",
   "execution_count": 14
  }
 ],
 "metadata": {
  "kernelspec": {
   "display_name": "Python 3",
   "language": "python",
   "name": "python3"
  },
  "language_info": {
   "codemirror_mode": {
    "name": "ipython",
    "version": 2
   },
   "file_extension": ".py",
   "mimetype": "text/x-python",
   "name": "python",
   "nbconvert_exporter": "python",
   "pygments_lexer": "ipython2",
   "version": "2.7.6"
  }
 },
 "nbformat": 4,
 "nbformat_minor": 5
}
