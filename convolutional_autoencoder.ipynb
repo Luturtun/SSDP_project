{
 "cells": [
  {
   "cell_type": "code",
   "execution_count": 1,
   "id": "initial_id",
   "metadata": {
    "collapsed": true,
    "ExecuteTime": {
     "end_time": "2024-05-30T00:01:20.835467Z",
     "start_time": "2024-05-30T00:01:13.779286Z"
    }
   },
   "outputs": [],
   "source": [
    "import os\n",
    "from PIL import Image\n",
    "import numpy as np\n",
    "from sklearn.decomposition import PCA\n",
    "import matplotlib.pyplot as plt\n",
    "from sklearn.discriminant_analysis import LinearDiscriminantAnalysis as LDA\n",
    "from sklearn.linear_model import LogisticRegression\n",
    "from sklearn.model_selection import train_test_split\n",
    "from sklearn.svm import SVC\n",
    "from sklearn.metrics import classification_report, confusion_matrix, accuracy_score\n",
    "import seaborn as sns\n",
    "import torch\n",
    "import torch.nn as nn\n",
    "import torch.optim as optim\n",
    "from torch.utils.data import DataLoader, TensorDataset\n",
    "import gc\n",
    "from tqdm import tqdm\n",
    "\n",
    "%matplotlib inline\n",
    "\n",
    "SMALL_SIZE = 11\n",
    "MEDIUM_SIZE = 12\n",
    "BIGGER_SIZE = 13\n",
    "\n",
    "plt.rcParams['axes.facecolor']='white'\n",
    "plt.rc('axes', titlesize=BIGGER_SIZE)     # fontsize of the axes title\n",
    "plt.rc('axes', labelsize=BIGGER_SIZE)    # fontsize of the x and y labels\n",
    "plt.rc('xtick', labelsize=MEDIUM_SIZE)    # fontsize of the tick labels\n",
    "plt.rc('ytick', labelsize=MEDIUM_SIZE)    # fontsize of the tick labels\n",
    "plt.rc('legend', fontsize=MEDIUM_SIZE)    # legend fontsize\n",
    "plt.rc('figure', titlesize=BIGGER_SIZE)  # fontsize of the figure title"
   ]
  },
  {
   "cell_type": "code",
   "outputs": [
    {
     "name": "stderr",
     "output_type": "stream",
     "text": [
      "\n",
      "KeyboardInterrupt\n",
      "\n"
     ]
    }
   ],
   "source": [
    "# Prepare lists to store the flattened images and labels\n",
    "images = []\n",
    "labels = []\n",
    "\n",
    "# Loop over each file in the directory\n",
    "for filename in os.listdir(\"Images\"):\n",
    "    file_path = os.path.join(\"Images\", filename)\n",
    "    with Image.open(file_path) as img:\n",
    "        images.append(np.array(img))\n",
    "        # Extract the class label from the filename\n",
    "        # Example filename: yaleB01_P00A+000E+00.png\n",
    "        # Extract '01' from 'yaleB01', which is the subject ID\n",
    "        label = filename.split('_')[0]\n",
    "        label = label[5:7]\n",
    "        labels.append(label)\n",
    "\n",
    "# Convert lists to numpy arrays\n",
    "image_matrix = np.array(images)\n",
    "label_array = np.array(labels)\n",
    "\n",
    "#Apply data normalization with mean and standard deviation\n",
    "image_matrix = (image_matrix - np.mean(image_matrix, axis=0)) / np.std(image_matrix, axis=0)\n",
    "\n",
    "print(\"Image matrix shape:\", image_matrix.shape)\n",
    "print(\"Labels array shape:\", label_array.shape)"
   ],
   "metadata": {
    "collapsed": false,
    "ExecuteTime": {
     "end_time": "2024-05-29T23:56:17.448151Z",
     "start_time": "2024-05-29T23:56:15.117117Z"
    }
   },
   "id": "a84b24544d6b251f",
   "execution_count": 83
  },
  {
   "cell_type": "code",
   "outputs": [],
   "source": [
    "#Alternatively, read from the pickle\n",
    "import pickle\n",
    "with open('young_matrix.pkl', 'rb') as file:\n",
    "    image_matrix = pickle.load(file)\n",
    "\n",
    "with open('young_labels.pkl', 'rb') as file:\n",
    "    label_array = np.array(pickle.load(file))\n",
    "\n",
    "original_dimensions = (144, 104)\n",
    "image_matrix = image_matrix.reshape(-1, original_dimensions[0], original_dimensions[1])"
   ],
   "metadata": {
    "collapsed": false,
    "ExecuteTime": {
     "end_time": "2024-05-30T01:22:06.081363Z",
     "start_time": "2024-05-30T01:22:05.942222Z"
    }
   },
   "id": "94c0d297ecec62b7",
   "execution_count": 48
  },
  {
   "cell_type": "code",
   "outputs": [
    {
     "name": "stdout",
     "output_type": "stream",
     "text": [
      "Device:  cuda\n"
     ]
    },
    {
     "data": {
      "text/plain": "141"
     },
     "execution_count": 49,
     "metadata": {},
     "output_type": "execute_result"
    }
   ],
   "source": [
    "# Unique classes in the dataset\n",
    "unique_classes = np.unique(label_array)\n",
    "\n",
    "# Initialize lists to hold the split results\n",
    "X_train_list = []\n",
    "X_test_list = []\n",
    "y_train_list = []\n",
    "y_test_list = []\n",
    "\n",
    "train_indices = []\n",
    "test_indices = []\n",
    "\n",
    "for cls in unique_classes:\n",
    "    indices = np.where(label_array == cls)[0]\n",
    "    train_idx, test_idx = train_test_split(indices, train_size=0.75, random_state=42, shuffle=True)\n",
    "    train_indices.extend(train_idx)\n",
    "    test_indices.extend(test_idx)\n",
    "\n",
    "# Use the indices to split both the original and transformed datasets\n",
    "X_train = image_matrix[train_indices]\n",
    "X_test = image_matrix[test_indices]\n",
    "y_train = label_array[train_indices].astype(int)\n",
    "y_test = label_array[test_indices].astype(int)\n",
    "\n",
    "#Convert to torch tensors\n",
    "X_train = torch.tensor(X_train, dtype=torch.float32)\n",
    "X_test = torch.tensor(X_test, dtype=torch.float32)\n",
    "y_train = torch.tensor(y_train, dtype=torch.long)\n",
    "y_test = torch.tensor(y_test, dtype=torch.long)\n",
    "\n",
    "# Create DataLoader\n",
    "train_dataset = TensorDataset(X_train, X_train)  # Autoencoder uses the same data for input and target\n",
    "test_dataset = TensorDataset(X_test, X_test)\n",
    "train_loader = DataLoader(train_dataset, batch_size=32, shuffle=True)\n",
    "test_loader = DataLoader(test_dataset, batch_size=32, shuffle=False)\n",
    "\n",
    "# Parameters\n",
    "encoding_dim = 32  # Arbitrary n, you can change it based on your needs\n",
    "\n",
    "device = torch.device(\"cuda\" if torch.cuda.is_available() else \"cpu\")\n",
    "print(\"Device: \", device)\n",
    "\n",
    "#Clear memory\n",
    "torch.cuda.empty_cache()\n",
    "gc.collect()"
   ],
   "metadata": {
    "collapsed": false,
    "ExecuteTime": {
     "end_time": "2024-05-30T01:22:14.939690Z",
     "start_time": "2024-05-30T01:22:14.586734Z"
    }
   },
   "id": "5a69d55d84a9fc2a",
   "execution_count": 49
  },
  {
   "cell_type": "code",
   "outputs": [],
   "source": [
    "class ConvAutoencoder(nn.Module):\n",
    "    def __init__(self, n, input_dim):\n",
    "        super(ConvAutoencoder, self).__init__()\n",
    "        # Encoder\n",
    "        self.encoder = nn.Sequential(\n",
    "            nn.Conv2d(1, 4, 2, stride=2),  # Input: (1, 192, 168), Output: (4, 96, 84)\n",
    "            nn.BatchNorm2d(4),\n",
    "            nn.ReLU(),\n",
    "            nn.Conv2d(4, 16, 2, stride=2),  # Output: (16, 48, 42)\n",
    "            nn.BatchNorm2d(16),\n",
    "            nn.ReLU(),\n",
    "            nn.Conv2d(16, 64, 2, stride=2),  # Output: (64, 24, 21)\n",
    "            nn.BatchNorm2d(64),\n",
    "            nn.ReLU(),\n",
    "            nn.Flatten(),\n",
    "            nn.Linear(64 * int(input_dim[0] / 8)  * int(input_dim[1] / 8), n)\n",
    "        )\n",
    "\n",
    "        # Decoder\n",
    "        self.decoder = nn.Sequential(\n",
    "            nn.Linear(n, 64 * int(input_dim[0] / 8) * int(input_dim[1] / 8)),\n",
    "            nn.Unflatten(dim=1, unflattened_size=(64, int(input_dim[0] / 8), int(input_dim[1] / 8))),\n",
    "            nn.ConvTranspose2d(64, 16, 2, stride=2),  # Output: (16, 48, 42)\n",
    "            nn.BatchNorm2d(16),\n",
    "            nn.ReLU(),\n",
    "            nn.ConvTranspose2d(16, 4, 2, stride=2),  # Output: (4, 96, 84)\n",
    "            nn.BatchNorm2d(4),\n",
    "            nn.ReLU(),\n",
    "            nn.ConvTranspose2d(4, 1, 2, stride=2),   # Output: (1, 192, 168)\n",
    "        )\n",
    "\n",
    "    def forward(self, x):\n",
    "        x = self.encoder(x)\n",
    "        x = self.decoder(x)\n",
    "        return x"
   ],
   "metadata": {
    "collapsed": false,
    "ExecuteTime": {
     "end_time": "2024-05-30T01:22:23.399363Z",
     "start_time": "2024-05-30T01:22:23.373431Z"
    }
   },
   "id": "89488dc3452ec549",
   "execution_count": 50
  },
  {
   "cell_type": "code",
   "outputs": [],
   "source": [
    "logistic_classifier = LogisticRegression(random_state = 42, C = 0.005, max_iter = 500)\n",
    "svm_classifier = SVC(kernel = 'linear', random_state = 42, C = 0.001, max_iter = 500)"
   ],
   "metadata": {
    "collapsed": false,
    "ExecuteTime": {
     "end_time": "2024-05-30T01:22:25.566770Z",
     "start_time": "2024-05-30T01:22:25.555799Z"
    }
   },
   "id": "3f05ec9d026a7398",
   "execution_count": 51
  },
  {
   "cell_type": "code",
   "outputs": [
    {
     "name": "stdout",
     "output_type": "stream",
     "text": [
      "Epoch [1/100], Train Loss: 0.9473, Validation Loss: 0.7094\n",
      "Epoch [2/100], Train Loss: 0.7102, Validation Loss: 0.5694\n",
      "Epoch [3/100], Train Loss: 0.6000, Validation Loss: 0.4952\n",
      "Epoch [4/100], Train Loss: 0.5186, Validation Loss: 0.4232\n",
      "Epoch [5/100], Train Loss: 0.4637, Validation Loss: 0.3798\n",
      "Epoch [6/100], Train Loss: 0.4128, Validation Loss: 0.3349\n",
      "Epoch [7/100], Train Loss: 0.3778, Validation Loss: 0.3239\n",
      "Epoch [8/100], Train Loss: 0.3398, Validation Loss: 0.2724\n",
      "Epoch [9/100], Train Loss: 0.3082, Validation Loss: 0.2523\n",
      "Epoch [10/100], Train Loss: 0.2824, Validation Loss: 0.2336\n",
      "Epoch [11/100], Train Loss: 0.2700, Validation Loss: 0.2281\n",
      "Epoch [12/100], Train Loss: 0.2414, Validation Loss: 0.1932\n",
      "Epoch [13/100], Train Loss: 0.2276, Validation Loss: 0.1871\n",
      "Epoch [14/100], Train Loss: 0.2107, Validation Loss: 0.1738\n",
      "Epoch [15/100], Train Loss: 0.1962, Validation Loss: 0.1564\n",
      "Epoch [16/100], Train Loss: 0.1870, Validation Loss: 0.1526\n",
      "Epoch [17/100], Train Loss: 0.1766, Validation Loss: 0.1690\n",
      "Epoch [18/100], Train Loss: 0.1685, Validation Loss: 0.1324\n",
      "Epoch [19/100], Train Loss: 0.1573, Validation Loss: 0.1349\n",
      "Epoch [20/100], Train Loss: 0.1596, Validation Loss: 0.1231\n",
      "Epoch [21/100], Train Loss: 0.1486, Validation Loss: 0.1142\n",
      "Epoch [22/100], Train Loss: 0.1397, Validation Loss: 0.1158\n",
      "Epoch [23/100], Train Loss: 0.1496, Validation Loss: 0.1280\n",
      "Epoch [24/100], Train Loss: 0.1384, Validation Loss: 0.1073\n",
      "Epoch [25/100], Train Loss: 0.1304, Validation Loss: 0.1014\n",
      "Epoch [26/100], Train Loss: 0.1322, Validation Loss: 0.1038\n",
      "Epoch [27/100], Train Loss: 0.1272, Validation Loss: 0.0959\n",
      "Epoch [28/100], Train Loss: 0.1282, Validation Loss: 0.0971\n",
      "Epoch [29/100], Train Loss: 0.1232, Validation Loss: 0.0937\n",
      "Epoch [30/100], Train Loss: 0.1129, Validation Loss: 0.1180\n",
      "Epoch [31/100], Train Loss: 0.1116, Validation Loss: 0.0917\n",
      "Epoch [32/100], Train Loss: 0.1101, Validation Loss: 0.0930\n",
      "Epoch [33/100], Train Loss: 0.1129, Validation Loss: 0.0864\n",
      "Epoch [34/100], Train Loss: 0.1118, Validation Loss: 0.0851\n",
      "Epoch [35/100], Train Loss: 0.1110, Validation Loss: 0.0854\n",
      "Epoch [36/100], Train Loss: 0.1114, Validation Loss: 0.0864\n",
      "Epoch [37/100], Train Loss: 0.1102, Validation Loss: 0.0838\n",
      "Epoch [38/100], Train Loss: 0.1092, Validation Loss: 0.0919\n",
      "Epoch [39/100], Train Loss: 0.1082, Validation Loss: 0.0828\n",
      "Epoch [40/100], Train Loss: 0.0983, Validation Loss: 0.0854\n",
      "Epoch [41/100], Train Loss: 0.1243, Validation Loss: 0.1030\n",
      "Epoch [42/100], Train Loss: 0.1108, Validation Loss: 0.0885\n",
      "Epoch [43/100], Train Loss: 0.1026, Validation Loss: 0.0823\n",
      "Epoch [44/100], Train Loss: 0.1009, Validation Loss: 0.0794\n",
      "Epoch [45/100], Train Loss: 0.0988, Validation Loss: 0.0885\n",
      "Epoch [46/100], Train Loss: 0.0959, Validation Loss: 0.0842\n",
      "Epoch [47/100], Train Loss: 0.0979, Validation Loss: 0.0852\n",
      "Epoch [48/100], Train Loss: 0.0945, Validation Loss: 0.0911\n",
      "Epoch [49/100], Train Loss: 0.0884, Validation Loss: 0.0801\n",
      "Epoch [50/100], Train Loss: 0.0885, Validation Loss: 0.0853\n",
      "Epoch [51/100], Train Loss: 0.0826, Validation Loss: 0.0936\n",
      "Epoch [52/100], Train Loss: 0.0848, Validation Loss: 0.0793\n",
      "Epoch [53/100], Train Loss: 0.0858, Validation Loss: 0.1034\n",
      "Epoch [54/100], Train Loss: 0.0795, Validation Loss: 0.0798\n",
      "Epoch [55/100], Train Loss: 0.0788, Validation Loss: 0.0781\n",
      "Epoch [56/100], Train Loss: 0.0722, Validation Loss: 0.1048\n",
      "Epoch [57/100], Train Loss: 0.0776, Validation Loss: 0.0777\n",
      "Epoch [58/100], Train Loss: 0.0735, Validation Loss: 0.0906\n",
      "Epoch [59/100], Train Loss: 0.0697, Validation Loss: 0.0753\n",
      "Epoch [60/100], Train Loss: 0.0687, Validation Loss: 0.1193\n",
      "Epoch [61/100], Train Loss: 0.0694, Validation Loss: 0.0772\n",
      "Epoch [62/100], Train Loss: 0.0680, Validation Loss: 0.1042\n",
      "Epoch [63/100], Train Loss: 0.0651, Validation Loss: 0.0890\n",
      "Epoch [64/100], Train Loss: 0.0651, Validation Loss: 0.0815\n",
      "Epoch [65/100], Train Loss: 0.0656, Validation Loss: 0.0860\n",
      "Epoch [66/100], Train Loss: 0.0633, Validation Loss: 0.0810\n",
      "Epoch [67/100], Train Loss: 0.0640, Validation Loss: 0.1012\n",
      "Epoch [68/100], Train Loss: 0.0631, Validation Loss: 0.0804\n",
      "Epoch [69/100], Train Loss: 0.0656, Validation Loss: 0.0742\n",
      "Epoch [70/100], Train Loss: 0.0614, Validation Loss: 0.0811\n",
      "Epoch [71/100], Train Loss: 0.0638, Validation Loss: 0.0934\n",
      "Epoch [72/100], Train Loss: 0.0596, Validation Loss: 0.0788\n",
      "Epoch [73/100], Train Loss: 0.0588, Validation Loss: 0.0915\n",
      "Epoch [74/100], Train Loss: 0.0564, Validation Loss: 0.0739\n",
      "Epoch [75/100], Train Loss: 0.0585, Validation Loss: 0.0946\n",
      "Epoch [76/100], Train Loss: 0.0596, Validation Loss: 0.0791\n",
      "Epoch [77/100], Train Loss: 0.0588, Validation Loss: 0.0705\n",
      "Epoch [78/100], Train Loss: 0.0559, Validation Loss: 0.0772\n",
      "Epoch [79/100], Train Loss: 0.0559, Validation Loss: 0.0817\n",
      "Epoch [80/100], Train Loss: 0.0560, Validation Loss: 0.0716\n",
      "Epoch [81/100], Train Loss: 0.0549, Validation Loss: 0.0912\n",
      "Epoch [82/100], Train Loss: 0.0557, Validation Loss: 0.0845\n",
      "Epoch [83/100], Train Loss: 0.0547, Validation Loss: 0.0695\n",
      "Epoch [84/100], Train Loss: 0.0553, Validation Loss: 0.0802\n",
      "Epoch [85/100], Train Loss: 0.0565, Validation Loss: 0.0724\n",
      "Epoch [86/100], Train Loss: 0.0524, Validation Loss: 0.0765\n",
      "Epoch [87/100], Train Loss: 0.0507, Validation Loss: 0.0695\n",
      "Epoch [88/100], Train Loss: 0.0509, Validation Loss: 0.1013\n",
      "Epoch [89/100], Train Loss: 0.0512, Validation Loss: 0.0725\n",
      "Epoch [90/100], Train Loss: 0.0506, Validation Loss: 0.0757\n",
      "Epoch [91/100], Train Loss: 0.0517, Validation Loss: 0.0935\n",
      "Epoch [92/100], Train Loss: 0.0507, Validation Loss: 0.0796\n",
      "Epoch [93/100], Train Loss: 0.0488, Validation Loss: 0.0891\n",
      "Epoch [94/100], Train Loss: 0.0501, Validation Loss: 0.0739\n",
      "Epoch [95/100], Train Loss: 0.0512, Validation Loss: 0.0741\n",
      "Epoch [96/100], Train Loss: 0.0481, Validation Loss: 0.0726\n",
      "Epoch [97/100], Train Loss: 0.0475, Validation Loss: 0.0648\n",
      "Epoch [98/100], Train Loss: 0.0492, Validation Loss: 0.0748\n",
      "Epoch [99/100], Train Loss: 0.0490, Validation Loss: 0.0614\n",
      "Epoch [100/100], Train Loss: 0.0479, Validation Loss: 0.0684\n"
     ]
    }
   ],
   "source": [
    "# Assuming you have your model and optimizer already defined\n",
    "model = ConvAutoencoder(32, (image_matrix.shape[1], image_matrix.shape[2])).to(device)\n",
    "criterion = nn.MSELoss()\n",
    "optimizer = optim.Adam(model.parameters(), lr=3e-4, weight_decay=1e-5)\n",
    "\n",
    "train_losses = []\n",
    "val_losses = []\n",
    "num_epochs = 100\n",
    "\n",
    "for epoch in range(num_epochs):\n",
    "    model.train()  # Set the model to training mode\n",
    "    running_train_loss = 0.0\n",
    "    for data in train_loader:\n",
    "        inputs, targets = data\n",
    "        inputs, targets = inputs.unsqueeze(1).to(device), targets.unsqueeze(1).to(device)\n",
    "        \n",
    "        optimizer.zero_grad()  # Zero the parameter gradients\n",
    "        \n",
    "        outputs = model(inputs)  # Forward pass\n",
    "        loss = criterion(outputs, targets)  # Compute loss\n",
    "        \n",
    "        loss.backward()  # Backward pass\n",
    "        optimizer.step()  # Optimize\n",
    "        \n",
    "        running_train_loss += loss.item()\n",
    "    \n",
    "    train_loss = running_train_loss / len(train_loader)\n",
    "    train_losses.append(train_loss)\n",
    "    \n",
    "    # Validation loss\n",
    "    model.eval()  # Set the model to evaluation mode\n",
    "    running_val_loss = 0.0\n",
    "    with torch.no_grad():  # Disable gradient calculation for validation\n",
    "        for data in test_loader:\n",
    "            inputs, targets = data\n",
    "            inputs, targets = inputs.unsqueeze(1).to(device), targets.unsqueeze(1).to(device)\n",
    "            \n",
    "            outputs = model(inputs)  # Forward pass\n",
    "            loss = criterion(outputs, targets)  # Compute loss\n",
    "            \n",
    "            running_val_loss += loss.item()\n",
    "    \n",
    "    val_loss = running_val_loss / len(test_loader)\n",
    "    val_losses.append(val_loss)\n",
    "    \n",
    "    print(f'Epoch [{epoch+1}/{num_epochs}], Train Loss: {train_loss:.4f}, Validation Loss: {val_loss:.4f}')"
   ],
   "metadata": {
    "collapsed": false,
    "ExecuteTime": {
     "end_time": "2024-05-29T20:53:23.497247Z",
     "start_time": "2024-05-29T20:48:17.379703Z"
    }
   },
   "id": "6e8127e2ae19f94d",
   "execution_count": 35
  },
  {
   "cell_type": "code",
   "outputs": [
    {
     "name": "stdout",
     "output_type": "stream",
     "text": [
      "Number of trainable parameters for latent dimension size of 32: 53978\n"
     ]
    }
   ],
   "source": [
    "def count_trainable_parameters(model):\n",
    "    return sum(p.numel() for p in model.parameters() if p.requires_grad)\n",
    "\n",
    "# Print the number of trainable parameters\n",
    "num_params = count_trainable_parameters(model)\n",
    "print(f'Number of trainable parameters for latent dimension size of 32: {num_params}')"
   ],
   "metadata": {
    "collapsed": false,
    "ExecuteTime": {
     "end_time": "2024-05-30T00:08:45.237206Z",
     "start_time": "2024-05-30T00:08:45.213270Z"
    }
   },
   "id": "b16d85e3afcdf873",
   "execution_count": 13
  },
  {
   "cell_type": "code",
   "outputs": [
    {
     "data": {
      "text/plain": "<Figure size 640x480 with 1 Axes>",
      "image/png": "[encoded data removed]"
     },
     "metadata": {},
     "output_type": "display_data"
    }
   ],
   "source": [
    "# Plot the training and validation losses\n",
    "plt.plot(train_losses, label='Training loss', linewidth=2)\n",
    "plt.plot(val_losses, label='Validation loss', linewidth=2)\n",
    "plt.xlabel('Epochs')\n",
    "plt.ylabel('MSE Loss')\n",
    "plt.grid(color='black', linewidth=0.25, alpha=0.5)\n",
    "plt.legend()\n",
    "plt.show()"
   ],
   "metadata": {
    "collapsed": false,
    "ExecuteTime": {
     "end_time": "2024-05-29T20:55:45.101759Z",
     "start_time": "2024-05-29T20:55:43.778627Z"
    }
   },
   "id": "804b0fdd8f7b77e8",
   "execution_count": 37
  },
  {
   "cell_type": "code",
   "outputs": [],
   "source": [
    "def evaluate_model(classifier, X_train, y_train, X_test, y_test):\n",
    "    classifier.fit(X_train, y_train)\n",
    "    y_pred = classifier.predict(X_test)\n",
    "    accuracy = accuracy_score(y_test, y_pred)\n",
    "    return accuracy"
   ],
   "metadata": {
    "collapsed": false,
    "ExecuteTime": {
     "end_time": "2024-05-30T01:02:52.312444Z",
     "start_time": "2024-05-30T01:02:52.295456Z"
    }
   },
   "id": "df424acac51e933b",
   "execution_count": 37
  },
  {
   "cell_type": "code",
   "outputs": [
    {
     "name": "stderr",
     "output_type": "stream",
     "text": [
      "100%|██████████| 50/50 [01:13<00:00,  1.47s/it]\n",
      "C:\\Users\\korki\\anaconda3\\envs\\mnlp\\lib\\site-packages\\sklearn\\svm\\_base.py:299: ConvergenceWarning: Solver terminated early (max_iter=500).  Consider pre-processing your data with StandardScaler or MinMaxScaler.\n",
      "  warnings.warn(\n",
      "100%|██████████| 50/50 [01:23<00:00,  1.67s/it]\n",
      "C:\\Users\\korki\\anaconda3\\envs\\mnlp\\lib\\site-packages\\sklearn\\svm\\_base.py:299: ConvergenceWarning: Solver terminated early (max_iter=500).  Consider pre-processing your data with StandardScaler or MinMaxScaler.\n",
      "  warnings.warn(\n",
      "100%|██████████| 50/50 [01:45<00:00,  2.12s/it]\n",
      "C:\\Users\\korki\\anaconda3\\envs\\mnlp\\lib\\site-packages\\sklearn\\svm\\_base.py:299: ConvergenceWarning: Solver terminated early (max_iter=500).  Consider pre-processing your data with StandardScaler or MinMaxScaler.\n",
      "  warnings.warn(\n"
     ]
    }
   ],
   "source": [
    "component_list = [1, 100, 200]\n",
    "logistic_accuracies = []\n",
    "svm_accuracies = []\n",
    "for n in component_list:\n",
    "    model = ConvAutoencoder(n, (image_matrix.shape[1], image_matrix.shape[2])).to(device)\n",
    "    # Loss and optimizer\n",
    "    criterion = nn.MSELoss()\n",
    "    optimizer = optim.Adam(model.parameters(), lr=3e-4, weight_decay=1e-5)\n",
    "\n",
    "    # Training the autoencoder\n",
    "    num_epochs = 50\n",
    "    for epoch in tqdm(range(num_epochs)):\n",
    "        for data in train_loader:\n",
    "            inputs, targets = data\n",
    "            inputs, targets = inputs.unsqueeze(1).to(device), targets.unsqueeze(1).to(device)\n",
    "            # Zero the parameter gradients\n",
    "            optimizer.zero_grad()\n",
    "            # Forward pass\n",
    "            outputs = model(inputs)\n",
    "            loss = criterion(outputs, targets)\n",
    "            # Backward pass and optimize\n",
    "            loss.backward()\n",
    "            optimizer.step()\n",
    "    with torch.no_grad():\n",
    "        X_train_encoded = model.encoder(X_train.unsqueeze(1).to(device)).cpu().numpy()\n",
    "        X_test_encoded = model.encoder(X_test.unsqueeze(1).to(device)).cpu().numpy()\n",
    "\n",
    "    logistic_accuracy = evaluate_model(logistic_classifier, X_train_encoded, y_train.numpy(), X_test_encoded, y_test.numpy())\n",
    "    logistic_accuracies.append(logistic_accuracy)\n",
    "\n",
    "    svm_accuracy = evaluate_model(svm_classifier, X_train_encoded, y_train.numpy(), X_test_encoded, y_test.numpy())\n",
    "    svm_accuracies.append(svm_accuracy)"
   ],
   "metadata": {
    "collapsed": false,
    "ExecuteTime": {
     "end_time": "2024-05-30T01:27:00.955584Z",
     "start_time": "2024-05-30T01:22:35.904499Z"
    }
   },
   "id": "9def7181b6eff8da",
   "execution_count": 52
  },
  {
   "cell_type": "code",
   "outputs": [
    {
     "data": {
      "text/plain": "([0.5133333333333333, 0.6773333333333333, 0.6853333333333333],\n [0.5173333333333333, 0.49866666666666665, 0.5533333333333333])"
     },
     "execution_count": 53,
     "metadata": {},
     "output_type": "execute_result"
    }
   ],
   "source": [
    "logistic_accuracies, svm_accuracies"
   ],
   "metadata": {
    "collapsed": false,
    "ExecuteTime": {
     "end_time": "2024-05-30T01:27:33.723889Z",
     "start_time": "2024-05-30T01:27:33.700438Z"
    }
   },
   "id": "bcfac068f2447f86",
   "execution_count": 53
  },
  {
   "cell_type": "code",
   "outputs": [],
   "source": [
    "with torch.no_grad():\n",
    "    X_train_encoded = model.encoder(X_train.unsqueeze(1).to(device)).cpu().numpy()\n",
    "    X_test_encoded = model.encoder(X_test.unsqueeze(1).to(device)).cpu().numpy()\n",
    "\n",
    "logistic_accuracy = evaluate_model(logistic_classifier, X_train_encoded, y_train.numpy(), X_test_encoded, y_test.numpy())\n",
    "svm_accuracy = evaluate_model(svm_classifier, X_train_encoded, y_train.numpy(), X_test_encoded, y_test.numpy())"
   ],
   "metadata": {
    "collapsed": false,
    "ExecuteTime": {
     "end_time": "2024-05-29T20:14:08.272831Z",
     "start_time": "2024-05-29T20:14:06.306298Z"
    }
   },
   "id": "9c1290d52c92e79",
   "execution_count": 19
  },
  {
   "cell_type": "code",
   "outputs": [],
   "source": [
    "#pickle the accuracies\n",
    "import pickle\n",
    "with open('auto_log_accuracies.pkl', 'wb') as file:\n",
    "    pickle.dump(logistic_accuracies, file)\n",
    "    \n",
    "with open('auto_svm_accuracies.pkl', 'wb') as file:\n",
    "    pickle.dump(svm_accuracies, file)"
   ],
   "metadata": {
    "collapsed": false,
    "ExecuteTime": {
     "end_time": "2024-05-29T19:46:22.319530Z",
     "start_time": "2024-05-29T19:46:22.297529Z"
    }
   },
   "id": "f2083deb27e2aaca",
   "execution_count": 16
  }
 ],
 "metadata": {
  "kernelspec": {
   "display_name": "Python 3",
   "language": "python",
   "name": "python3"
  },
  "language_info": {
   "codemirror_mode": {
    "name": "ipython",
    "version": 2
   },
   "file_extension": ".py",
   "mimetype": "text/x-python",
   "name": "python",
   "nbconvert_exporter": "python",
   "pygments_lexer": "ipython2",
   "version": "2.7.6"
  }
 },
 "nbformat": 4,
 "nbformat_minor": 5
}
