{
 "cells": [
  {
   "cell_type": "code",
   "execution_count": 54,
   "id": "initial_id",
   "metadata": {
    "collapsed": true,
    "ExecuteTime": {
     "end_time": "2024-05-29T16:50:34.107686Z",
     "start_time": "2024-05-29T16:50:34.087710Z"
    }
   },
   "outputs": [],
   "source": [
    "import os\n",
    "from PIL import Image\n",
    "import numpy as np\n",
    "from sklearn.decomposition import PCA\n",
    "import matplotlib.pyplot as plt\n",
    "from sklearn.model_selection import train_test_split\n",
    "from sklearn.linear_model import LogisticRegression\n",
    "from sklearn.svm import SVC\n",
    "from sklearn.metrics import classification_report, confusion_matrix, accuracy_score\n",
    "import seaborn as sns\n",
    "\n",
    "%matplotlib inline\n",
    "\n",
    "SMALL_SIZE = 11\n",
    "MEDIUM_SIZE = 12\n",
    "BIGGER_SIZE = 13\n",
    "\n",
    "plt.rcParams['axes.facecolor']='white'\n",
    "plt.rc('axes', titlesize=BIGGER_SIZE)     # fontsize of the axes title\n",
    "plt.rc('axes', labelsize=BIGGER_SIZE)    # fontsize of the x and y labels\n",
    "plt.rc('xtick', labelsize=MEDIUM_SIZE)    # fontsize of the tick labels\n",
    "plt.rc('ytick', labelsize=MEDIUM_SIZE)    # fontsize of the tick labels\n",
    "plt.rc('legend', fontsize=MEDIUM_SIZE)    # legend fontsize\n",
    "plt.rc('figure', titlesize=BIGGER_SIZE)  # fontsize of the figure title"
   ]
  },
  {
   "cell_type": "code",
   "outputs": [
    {
     "name": "stdout",
     "output_type": "stream",
     "text": [
      "Image matrix shape: (2414, 32256)\n",
      "Labels array shape: (2414,)\n"
     ]
    }
   ],
   "source": [
    "# Prepare lists to store the flattened images and labels\n",
    "flattened_images = []\n",
    "labels = []\n",
    "\n",
    "# Loop over each file in the directory\n",
    "for filename in os.listdir(\"Images\"):\n",
    "    file_path = os.path.join(\"Images\", filename)\n",
    "    with Image.open(file_path) as img:\n",
    "        flattened_img = np.array(img).flatten()\n",
    "        flattened_images.append(flattened_img)\n",
    "        # Extract the class label from the filename\n",
    "        # Example filename: yaleB01_P00A+000E+00.png\n",
    "        # Extract '01' from 'yaleB01', which is the subject ID\n",
    "        label = filename.split('_')[0]\n",
    "        label = label[5:7]\n",
    "        labels.append(label)\n",
    "\n",
    "# Convert lists to numpy arrays\n",
    "image_matrix = np.array(flattened_images)\n",
    "label_array = np.array(labels)\n",
    "\n",
    "print(\"Image matrix shape:\", image_matrix.shape)\n",
    "print(\"Labels array shape:\", label_array.shape)"
   ],
   "metadata": {
    "collapsed": false,
    "ExecuteTime": {
     "end_time": "2024-05-29T16:24:23.153333Z",
     "start_time": "2024-05-29T16:24:19.287824Z"
    }
   },
   "id": "98771773a14e4d0b",
   "execution_count": 2
  },
  {
   "cell_type": "code",
   "outputs": [],
   "source": [
    "#Alternatively, read from the pickle\n",
    "import pickle\n",
    "with open('young_matrix.pkl', 'rb') as file:\n",
    "    image_matrix = pickle.load(file)\n",
    "\n",
    "with open('young_labels.pkl', 'rb') as file:\n",
    "    label_array = np.array(pickle.load(file))"
   ],
   "metadata": {
    "collapsed": false,
    "ExecuteTime": {
     "end_time": "2024-05-29T22:48:45.209226Z",
     "start_time": "2024-05-29T22:48:45.068088Z"
    }
   },
   "id": "197a822ff1f934f",
   "execution_count": 188
  },
  {
   "cell_type": "code",
   "outputs": [],
   "source": [
    "# Unique classes in the dataset\n",
    "unique_classes = np.unique(labels)\n",
    "\n",
    "# Initialize lists to hold the split results\n",
    "X_train_list = []\n",
    "X_test_list = []\n",
    "y_train_list = []\n",
    "y_test_list = []\n",
    "\n",
    "train_indices = []\n",
    "test_indices = []\n",
    "\n",
    "for cls in unique_classes:\n",
    "    indices = np.where(label_array == cls)[0]\n",
    "    train_idx, test_idx = train_test_split(indices, train_size=0.75, random_state=42, shuffle=True)\n",
    "    train_indices.extend(train_idx)\n",
    "    test_indices.extend(test_idx)\n",
    "\n",
    "# Use the indices to split both the original and transformed datasets\n",
    "X_train = image_matrix[train_indices]\n",
    "X_test = image_matrix[test_indices]\n",
    "y_train = label_array[train_indices]\n",
    "y_test = label_array[test_indices]"
   ],
   "metadata": {
    "collapsed": false,
    "ExecuteTime": {
     "end_time": "2024-05-29T22:48:47.218171Z",
     "start_time": "2024-05-29T22:48:47.158817Z"
    }
   },
   "id": "63cb4c8c68112c1f",
   "execution_count": 189
  },
  {
   "cell_type": "code",
   "outputs": [],
   "source": [
    "def evaluate_model(classifier, X_train, y_train, X_test, y_test):\n",
    "    classifier.fit(X_train, y_train)\n",
    "    y_pred = classifier.predict(X_test)\n",
    "    accuracy = accuracy_score(y_test, y_pred)\n",
    "    return accuracy"
   ],
   "metadata": {
    "collapsed": false,
    "ExecuteTime": {
     "end_time": "2024-05-29T22:48:49.046303Z",
     "start_time": "2024-05-29T22:48:49.028352Z"
    }
   },
   "id": "57554625e442a552",
   "execution_count": 190
  },
  {
   "cell_type": "code",
   "outputs": [],
   "source": [
    "logistic_classifier = LogisticRegression(random_state = 42, C = 0.005, max_iter = 500)\n",
    "svm_classifier = SVC(kernel = 'linear', random_state = 42, C = 0.001, max_iter = 500)"
   ],
   "metadata": {
    "collapsed": false,
    "ExecuteTime": {
     "end_time": "2024-05-29T22:48:51.628877Z",
     "start_time": "2024-05-29T22:48:51.614916Z"
    }
   },
   "id": "c85fb4961b6646c8",
   "execution_count": 191
  },
  {
   "cell_type": "code",
   "outputs": [
    {
     "name": "stderr",
     "output_type": "stream",
     "text": [
      "C:\\Users\\korki\\anaconda3\\envs\\mnlp\\lib\\site-packages\\sklearn\\svm\\_base.py:299: ConvergenceWarning: Solver terminated early (max_iter=500).  Consider pre-processing your data with StandardScaler or MinMaxScaler.\n",
      "  warnings.warn(\n",
      "C:\\Users\\korki\\anaconda3\\envs\\mnlp\\lib\\site-packages\\sklearn\\svm\\_base.py:299: ConvergenceWarning: Solver terminated early (max_iter=500).  Consider pre-processing your data with StandardScaler or MinMaxScaler.\n",
      "  warnings.warn(\n",
      "C:\\Users\\korki\\anaconda3\\envs\\mnlp\\lib\\site-packages\\sklearn\\svm\\_base.py:299: ConvergenceWarning: Solver terminated early (max_iter=500).  Consider pre-processing your data with StandardScaler or MinMaxScaler.\n",
      "  warnings.warn(\n",
      "C:\\Users\\korki\\anaconda3\\envs\\mnlp\\lib\\site-packages\\sklearn\\svm\\_base.py:299: ConvergenceWarning: Solver terminated early (max_iter=500).  Consider pre-processing your data with StandardScaler or MinMaxScaler.\n",
      "  warnings.warn(\n",
      "C:\\Users\\korki\\anaconda3\\envs\\mnlp\\lib\\site-packages\\sklearn\\svm\\_base.py:299: ConvergenceWarning: Solver terminated early (max_iter=500).  Consider pre-processing your data with StandardScaler or MinMaxScaler.\n",
      "  warnings.warn(\n",
      "C:\\Users\\korki\\anaconda3\\envs\\mnlp\\lib\\site-packages\\sklearn\\svm\\_base.py:299: ConvergenceWarning: Solver terminated early (max_iter=500).  Consider pre-processing your data with StandardScaler or MinMaxScaler.\n",
      "  warnings.warn(\n",
      "C:\\Users\\korki\\anaconda3\\envs\\mnlp\\lib\\site-packages\\sklearn\\svm\\_base.py:299: ConvergenceWarning: Solver terminated early (max_iter=500).  Consider pre-processing your data with StandardScaler or MinMaxScaler.\n",
      "  warnings.warn(\n",
      "C:\\Users\\korki\\anaconda3\\envs\\mnlp\\lib\\site-packages\\sklearn\\svm\\_base.py:299: ConvergenceWarning: Solver terminated early (max_iter=500).  Consider pre-processing your data with StandardScaler or MinMaxScaler.\n",
      "  warnings.warn(\n",
      "C:\\Users\\korki\\anaconda3\\envs\\mnlp\\lib\\site-packages\\sklearn\\svm\\_base.py:299: ConvergenceWarning: Solver terminated early (max_iter=500).  Consider pre-processing your data with StandardScaler or MinMaxScaler.\n",
      "  warnings.warn(\n",
      "C:\\Users\\korki\\anaconda3\\envs\\mnlp\\lib\\site-packages\\sklearn\\svm\\_base.py:299: ConvergenceWarning: Solver terminated early (max_iter=500).  Consider pre-processing your data with StandardScaler or MinMaxScaler.\n",
      "  warnings.warn(\n",
      "C:\\Users\\korki\\anaconda3\\envs\\mnlp\\lib\\site-packages\\sklearn\\svm\\_base.py:299: ConvergenceWarning: Solver terminated early (max_iter=500).  Consider pre-processing your data with StandardScaler or MinMaxScaler.\n",
      "  warnings.warn(\n",
      "C:\\Users\\korki\\anaconda3\\envs\\mnlp\\lib\\site-packages\\sklearn\\svm\\_base.py:299: ConvergenceWarning: Solver terminated early (max_iter=500).  Consider pre-processing your data with StandardScaler or MinMaxScaler.\n",
      "  warnings.warn(\n",
      "C:\\Users\\korki\\anaconda3\\envs\\mnlp\\lib\\site-packages\\sklearn\\svm\\_base.py:299: ConvergenceWarning: Solver terminated early (max_iter=500).  Consider pre-processing your data with StandardScaler or MinMaxScaler.\n",
      "  warnings.warn(\n",
      "C:\\Users\\korki\\anaconda3\\envs\\mnlp\\lib\\site-packages\\sklearn\\svm\\_base.py:299: ConvergenceWarning: Solver terminated early (max_iter=500).  Consider pre-processing your data with StandardScaler or MinMaxScaler.\n",
      "  warnings.warn(\n",
      "C:\\Users\\korki\\anaconda3\\envs\\mnlp\\lib\\site-packages\\sklearn\\svm\\_base.py:299: ConvergenceWarning: Solver terminated early (max_iter=500).  Consider pre-processing your data with StandardScaler or MinMaxScaler.\n",
      "  warnings.warn(\n",
      "C:\\Users\\korki\\anaconda3\\envs\\mnlp\\lib\\site-packages\\sklearn\\svm\\_base.py:299: ConvergenceWarning: Solver terminated early (max_iter=500).  Consider pre-processing your data with StandardScaler or MinMaxScaler.\n",
      "  warnings.warn(\n",
      "C:\\Users\\korki\\anaconda3\\envs\\mnlp\\lib\\site-packages\\sklearn\\svm\\_base.py:299: ConvergenceWarning: Solver terminated early (max_iter=500).  Consider pre-processing your data with StandardScaler or MinMaxScaler.\n",
      "  warnings.warn(\n",
      "C:\\Users\\korki\\anaconda3\\envs\\mnlp\\lib\\site-packages\\sklearn\\svm\\_base.py:299: ConvergenceWarning: Solver terminated early (max_iter=500).  Consider pre-processing your data with StandardScaler or MinMaxScaler.\n",
      "  warnings.warn(\n",
      "C:\\Users\\korki\\anaconda3\\envs\\mnlp\\lib\\site-packages\\sklearn\\svm\\_base.py:299: ConvergenceWarning: Solver terminated early (max_iter=500).  Consider pre-processing your data with StandardScaler or MinMaxScaler.\n",
      "  warnings.warn(\n",
      "C:\\Users\\korki\\anaconda3\\envs\\mnlp\\lib\\site-packages\\sklearn\\svm\\_base.py:299: ConvergenceWarning: Solver terminated early (max_iter=500).  Consider pre-processing your data with StandardScaler or MinMaxScaler.\n",
      "  warnings.warn(\n",
      "C:\\Users\\korki\\anaconda3\\envs\\mnlp\\lib\\site-packages\\sklearn\\svm\\_base.py:299: ConvergenceWarning: Solver terminated early (max_iter=500).  Consider pre-processing your data with StandardScaler or MinMaxScaler.\n",
      "  warnings.warn(\n"
     ]
    }
   ],
   "source": [
    "component_list = np.arange(1, 202, 10)\n",
    "logistic_accuracies = []\n",
    "svm_accuracies = []\n",
    "\n",
    "for n in component_list:\n",
    "    pca = PCA(n_components = n)\n",
    "    X_train_pca = pca.fit_transform(X_train)\n",
    "    X_test_pca = pca.transform(X_test)\n",
    "    logistic_accuracies.append(evaluate_model(logistic_classifier, X_train_pca, y_train, X_test_pca, y_test))\n",
    "    svm_accuracies.append(evaluate_model(svm_classifier, X_train_pca, y_train, X_test_pca, y_test))"
   ],
   "metadata": {
    "collapsed": false,
    "ExecuteTime": {
     "end_time": "2024-05-29T22:51:43.347383Z",
     "start_time": "2024-05-29T22:48:59.382820Z"
    }
   },
   "id": "284808e05ea12f7f",
   "execution_count": 192
  },
  {
   "cell_type": "code",
   "outputs": [
    {
     "data": {
      "text/plain": "<Figure size 640x480 with 1 Axes>",
      "image/png": "[encoded data removed]"
     },
     "metadata": {},
     "output_type": "display_data"
    }
   ],
   "source": [
    "# Using subplots\n",
    "plt.plot(component_list, logistic_accuracies, label = 'Logistic Regression', linewidth = 2)\n",
    "plt.plot(component_list, svm_accuracies, label = 'SVM', linewidth = 2)\n",
    "plt.xlabel('Number of components')\n",
    "plt.ylabel('Accuracy')\n",
    "plt.grid(color='black', linewidth=0.25, alpha=0.5)\n",
    "plt.ylim(0, 1.0)\n",
    "plt.yticks(np.arange(0, 1.1, 0.1))\n",
    "plt.legend()\n",
    "plt.show()"
   ],
   "metadata": {
    "collapsed": false,
    "ExecuteTime": {
     "end_time": "2024-05-29T22:52:25.686123Z",
     "start_time": "2024-05-29T22:52:25.355129Z"
    }
   },
   "id": "1a980de2e8fbc64c",
   "execution_count": 193
  },
  {
   "cell_type": "code",
   "outputs": [],
   "source": [
    "#pickle the accuracies\n",
    "import pickle\n",
    "with open('pca_young_log_accuracies.pkl', 'wb') as file:\n",
    "    pickle.dump(logistic_accuracies, file)\n",
    "    \n",
    "with open('pca_young_svm_accuracies.pkl', 'wb') as file:\n",
    "    pickle.dump(svm_accuracies, file)"
   ],
   "metadata": {
    "collapsed": false,
    "ExecuteTime": {
     "end_time": "2024-05-29T22:52:43.474455Z",
     "start_time": "2024-05-29T22:52:43.462485Z"
    }
   },
   "id": "84579b2371c8f483",
   "execution_count": 194
  }
 ],
 "metadata": {
  "kernelspec": {
   "display_name": "Python 3",
   "language": "python",
   "name": "python3"
  },
  "language_info": {
   "codemirror_mode": {
    "name": "ipython",
    "version": 2
   },
   "file_extension": ".py",
   "mimetype": "text/x-python",
   "name": "python",
   "nbconvert_exporter": "python",
   "pygments_lexer": "ipython2",
   "version": "2.7.6"
  }
 },
 "nbformat": 4,
 "nbformat_minor": 5
}
